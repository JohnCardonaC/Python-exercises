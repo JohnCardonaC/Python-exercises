{
 "cells": [
  {
   "cell_type": "markdown",
   "metadata": {},
   "source": [
    "1. Write a Python program to sum all the items in a list.\n"
   ]
  },
  {
   "cell_type": "code",
   "execution_count": 6,
   "metadata": {},
   "outputs": [
    {
     "name": "stdout",
     "output_type": "stream",
     "text": [
      "32\n"
     ]
    }
   ],
   "source": [
    "enterosSum = [1,2,3,4,5,7,10]\n",
    "sumNumbers = 0\n",
    "for i in enterosSum:\n",
    "  sumNumbers += i\n",
    "print(sumNumbers)\n"
   ]
  },
  {
   "cell_type": "markdown",
   "metadata": {},
   "source": [
    "2. Write a Python program to multiply all the items in a list"
   ]
  },
  {
   "cell_type": "code",
   "execution_count": 8,
   "metadata": {},
   "outputs": [
    {
     "name": "stdout",
     "output_type": "stream",
     "text": [
      "50\n"
     ]
    }
   ],
   "source": [
    "enterosMult = [5,2,5]\n",
    "multNumbers = 1\n",
    "for x in enterosMult:\n",
    "  multNumbers *= x\n",
    "print(multNumbers)"
   ]
  },
  {
   "cell_type": "markdown",
   "metadata": {},
   "source": [
    "3. Write a Python program to get the largest number from a list."
   ]
  },
  {
   "cell_type": "code",
   "execution_count": 10,
   "metadata": {},
   "outputs": [
    {
     "name": "stdout",
     "output_type": "stream",
     "text": [
      "9182738912\n"
     ]
    }
   ],
   "source": [
    "list3 = [2,12,4523,2,1234,1892, 9182738912]\n",
    "maxNum = [0]\n",
    "for i in list3:\n",
    "  if(i > maxNum):\n",
    "    maxNum = i\n",
    "print(maxNum)"
   ]
  },
  {
   "cell_type": "markdown",
   "metadata": {},
   "source": [
    "list4 = [12,4523,1234,1892, 5, 9182738912]\n",
    "minNum = list4[0]\n",
    "for i in list4:\n",
    "  if(i < minNum):\n",
    "    minNum = i\n",
    "print(minNum)"
   ]
  },
  {
   "cell_type": "code",
   "execution_count": 19,
   "metadata": {},
   "outputs": [
    {
     "name": "stdout",
     "output_type": "stream",
     "text": [
      "5\n"
     ]
    }
   ],
   "source": [
    "list4 = [12,4523,1234,1892, 5, 9182738912]\n",
    "minNum = list4[0]\n",
    "for i in list4:\n",
    "  if(i < minNum):\n",
    "    minNum = i\n",
    "print(minNum)"
   ]
  }
 ],
 "metadata": {
  "kernelspec": {
   "display_name": "Python 3",
   "language": "python",
   "name": "python3"
  },
  "language_info": {
   "codemirror_mode": {
    "name": "ipython",
    "version": 3
   },
   "file_extension": ".py",
   "mimetype": "text/x-python",
   "name": "python",
   "nbconvert_exporter": "python",
   "pygments_lexer": "ipython3",
   "version": "3.11.5"
  },
  "orig_nbformat": 4
 },
 "nbformat": 4,
 "nbformat_minor": 2
}
