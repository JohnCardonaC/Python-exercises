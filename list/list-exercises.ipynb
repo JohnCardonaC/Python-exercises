{
 "cells": [
  {
   "cell_type": "markdown",
   "metadata": {},
   "source": [
    "1. Write a Python program to sum all the items in a list.\n"
   ]
  },
  {
   "cell_type": "code",
   "execution_count": 6,
   "metadata": {},
   "outputs": [
    {
     "name": "stdout",
     "output_type": "stream",
     "text": [
      "32\n"
     ]
    }
   ],
   "source": [
    "enterosSum = [1,2,3,4,5,7,10]\n",
    "sumNumbers = 0\n",
    "for i in enterosSum:\n",
    "  sumNumbers += i\n",
    "print(sumNumbers)\n"
   ]
  },
  {
   "cell_type": "markdown",
   "metadata": {},
   "source": [
    "2. Write a Python program to multiply all the items in a list"
   ]
  },
  {
   "cell_type": "code",
   "execution_count": 8,
   "metadata": {},
   "outputs": [
    {
     "name": "stdout",
     "output_type": "stream",
     "text": [
      "50\n"
     ]
    }
   ],
   "source": [
    "enterosMult = [5,2,5]\n",
    "multNumbers = 1\n",
    "for x in enterosMult:\n",
    "  multNumbers *= x\n",
    "print(multNumbers)"
   ]
  },
  {
   "cell_type": "markdown",
   "metadata": {},
   "source": [
    "3. Write a Python program to get the largest number from a list."
   ]
  },
  {
   "cell_type": "code",
   "execution_count": 10,
   "metadata": {},
   "outputs": [
    {
     "name": "stdout",
     "output_type": "stream",
     "text": [
      "9182738912\n"
     ]
    }
   ],
   "source": [
    "list3 = [2,12,4523,2,1234,1892, 9182738912]\n",
    "maxNum = [0]\n",
    "for i in list3:\n",
    "  if(i > maxNum):\n",
    "    maxNum = i\n",
    "print(maxNum)"
   ]
  },
  {
   "cell_type": "markdown",
   "metadata": {},
   "source": [
    "list4 = [12,4523,1234,1892, 5, 9182738912]\n",
    "minNum = list4[0]\n",
    "for i in list4:\n",
    "  if(i < minNum):\n",
    "    minNum = i\n",
    "print(minNum)"
   ]
  },
  {
   "cell_type": "code",
   "execution_count": 19,
   "metadata": {},
   "outputs": [
    {
     "name": "stdout",
     "output_type": "stream",
     "text": [
      "5\n"
     ]
    }
   ],
   "source": [
    "list4 = [12,4523,1234,1892, 5, 9182738912]\n",
    "minNum = list4[0]\n",
    "for i in list4:\n",
    "  if(i < minNum):\n",
    "    minNum = i\n",
    "print(minNum)"
   ]
  },
  {
   "cell_type": "markdown",
   "metadata": {},
   "source": [
    "5. Write a Python program to count the number of strings from a given list of strings. The string length is 2 or more and the first and last characters are the same.\n",
    "\n",
    "Sample List : ['abc', 'xyz', 'aba', '1221']\n",
    "\n",
    "Expected Result : 2"
   ]
  },
  {
   "cell_type": "code",
   "execution_count": 26,
   "metadata": {},
   "outputs": [
    {
     "name": "stdout",
     "output_type": "stream",
     "text": [
      "4\n"
     ]
    }
   ],
   "source": [
    "list5 = ['abc', 'xyz', 'aba', '1221', \"asjkl\", \"jkshda\", \"raskjr\", \"ee\",  \"eae\"]\n",
    "countList = 0\n",
    "for x in list5:\n",
    " if( (x[0] == x[-1]) and (len(x) > 2) ):\n",
    "  countList += 1\n",
    "print(countList)\n"
   ]
  },
  {
   "cell_type": "markdown",
   "metadata": {},
   "source": [
    "6. Write a Python program to get a list, sorted in increasing order by the last element in each tuple from a given list of non-empty tuples.\n",
    "\n",
    "Sample List : [(2, 5), (1, 2), (4, 4), (2, 3), (2, 1)]\n",
    "\n",
    "Expected Result : [(2, 1), (1, 2), (2, 3), (4, 4), (2, 5)]"
   ]
  },
  {
   "cell_type": "code",
   "execution_count": 52,
   "metadata": {},
   "outputs": [
    {
     "name": "stdout",
     "output_type": "stream",
     "text": [
      "[(2, 1), (1, 2), (2, 3), (4, 4), (2, 5)]\n"
     ]
    }
   ],
   "source": [
    "list6 = [(2, 5), (1, 2), (4, 4), (2, 3), (2, 1)]\n",
    "#list6 = [1, 3, 5, 75, 23]\n",
    "def last(n): return n[-1]\n",
    "list6.sort(key=last)\n",
    "print( list6 )\n"
   ]
  },
  {
   "cell_type": "markdown",
   "metadata": {},
   "source": [
    "7. Write a Python program to remove duplicates from a list."
   ]
  },
  {
   "cell_type": "code",
   "execution_count": 84,
   "metadata": {},
   "outputs": [
    {
     "name": "stdout",
     "output_type": "stream",
     "text": [
      "['1', '4', '7']\n"
     ]
    }
   ],
   "source": [
    "list7 = [\"1\", \"4\", \"7\", \"4\", \"4\", \"4\", \"4\"]\n",
    "noDiplictaeList = []\n",
    "\n",
    "for i in list7:\n",
    "  if i not in noDiplictaeList:\n",
    "    noDiplictaeList.append(i)\n",
    "noDiplictaeList.sort()\n",
    "print(noDiplictaeList)"
   ]
  },
  {
   "cell_type": "markdown",
   "metadata": {},
   "source": [
    "8. Write a Python program to check if a list is empty or not."
   ]
  },
  {
   "cell_type": "code",
   "execution_count": 89,
   "metadata": {},
   "outputs": [
    {
     "name": "stdout",
     "output_type": "stream",
     "text": [
      "La lista está vacia\n"
     ]
    }
   ],
   "source": [
    "list8 = []\n",
    "if len(list8) == 0:\n",
    "  print(\"La lista está vacia\")\n",
    "else:\n",
    "   print(\"La lista no está vacia\")"
   ]
  }
 ],
 "metadata": {
  "kernelspec": {
   "display_name": "Python 3",
   "language": "python",
   "name": "python3"
  },
  "language_info": {
   "codemirror_mode": {
    "name": "ipython",
    "version": 3
   },
   "file_extension": ".py",
   "mimetype": "text/x-python",
   "name": "python",
   "nbconvert_exporter": "python",
   "pygments_lexer": "ipython3",
   "version": "3.11.5"
  },
  "orig_nbformat": 4
 },
 "nbformat": 4,
 "nbformat_minor": 2
}
